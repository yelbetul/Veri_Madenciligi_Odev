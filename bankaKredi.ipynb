{
 "cells": [
  {
   "cell_type": "code",
   "execution_count": 1,
   "metadata": {},
   "outputs": [],
   "source": [
    "import numpy as np  \n",
    "import pandas as pd  \n",
    "import statsmodels.api as sm  \n",
    "import matplotlib.pyplot as plt  \n",
    "from sklearn.linear_model import LinearRegression  \n",
    "from sklearn import metrics  \n",
    "from sklearn.model_selection import train_test_split \n",
    "# Veri setinin yüklenmesi \n",
    "data = pd.read_csv('data.csv') \n",
    "\n"
   ]
  },
  {
   "cell_type": "code",
   "execution_count": 2,
   "metadata": {},
   "outputs": [],
   "source": [
    "data_new = data.copy()\n",
    "data_new[\"Diger\"] = data_new[\"Diger\"].str.replace('.', '')\n",
    "data_new[\"Kart\"] = data_new[\"Kart\"].str.replace('.', '')\n"
   ]
  },
  {
   "cell_type": "code",
   "execution_count": 3,
   "metadata": {},
   "outputs": [],
   "source": [
    "X = data_new.values[:, 0:8] \n",
    "Y = data_new.values[:, 8] \n",
    "X_train, X_test, Y_train, Y_test = train_test_split(X, Y, test_size=0.20, random_state=7) "
   ]
  },
  {
   "cell_type": "code",
   "execution_count": 4,
   "metadata": {},
   "outputs": [
    {
     "name": "stdout",
     "output_type": "stream",
     "text": [
      "Mean Absolute Error: 22.917956083688587\n",
      "Mean Squared Error: 1264.343733726415\n",
      "Root Mean Squared Error: 35.55761147386611\n"
     ]
    }
   ],
   "source": [
    "#support vector regression default\n",
    "from sklearn.svm import SVR\n",
    "svr_default = SVR(kernel='rbf')\n",
    "svr_default.fit(X_train,Y_train)\n",
    "svr_default_predict = svr_default.predict(X_test)\n",
    "print('Mean Absolute Error:', metrics.mean_absolute_error(Y_test, svr_default_predict))\n",
    "print('Mean Squared Error:', metrics.mean_squared_error(Y_test, svr_default_predict))\n",
    "print('Root Mean Squared Error:', np.sqrt(metrics.mean_squared_error(Y_test, svr_default_predict)))"
   ]
  },
  {
   "cell_type": "code",
   "execution_count": 5,
   "metadata": {},
   "outputs": [
    {
     "name": "stdout",
     "output_type": "stream",
     "text": [
      "Mean Absolute Error: 644516.3358053075\n",
      "Mean Squared Error: 2571560069029.057\n",
      "Root Mean Squared Error: 1603608.4525310588\n"
     ]
    }
   ],
   "source": [
    "#support vector regression linear kernel\n",
    "from sklearn.svm import SVR\n",
    "svr_linear = SVR(kernel='linear')\n",
    "svr_linear.fit(X_train,Y_train)\n",
    "svr_linear_predict = svr_linear.predict(X_test)\n",
    "print('Mean Absolute Error:', metrics.mean_absolute_error(Y_test, svr_linear_predict))\n",
    "print('Mean Squared Error:', metrics.mean_squared_error(Y_test, svr_linear_predict))\n",
    "print('Root Mean Squared Error:', np.sqrt(metrics.mean_squared_error(Y_test, svr_linear_predict)))"
   ]
  },
  {
   "cell_type": "code",
   "execution_count": 6,
   "metadata": {},
   "outputs": [
    {
     "name": "stdout",
     "output_type": "stream",
     "text": [
      "Mean Absolute Error: 27.43285434808102\n",
      "Mean Squared Error: 3070.793741649099\n",
      "Root Mean Squared Error: 55.414742999035006\n"
     ]
    }
   ],
   "source": [
    "#support vector regression poly kernel\n",
    "from sklearn.svm import SVR\n",
    "svr_poly = SVR(kernel='poly')\n",
    "svr_poly.fit(X_train,Y_train)\n",
    "svr_poly_predict = svr_poly.predict(X_test)\n",
    "print('Mean Absolute Error:', metrics.mean_absolute_error(Y_test, svr_poly_predict))\n",
    "print('Mean Squared Error:', metrics.mean_squared_error(Y_test, svr_poly_predict))\n",
    "print('Root Mean Squared Error:', np.sqrt(metrics.mean_squared_error(Y_test, svr_poly_predict)))"
   ]
  },
  {
   "cell_type": "code",
   "execution_count": 7,
   "metadata": {},
   "outputs": [
    {
     "name": "stdout",
     "output_type": "stream",
     "text": [
      "Mean Absolute Error: 22.901667507402856\n",
      "Mean Squared Error: 1215.9285165966685\n",
      "Root Mean Squared Error: 34.870166569671966\n"
     ]
    }
   ],
   "source": [
    "#support vector regression sigmoid kernel\n",
    "from sklearn.svm import SVR\n",
    "svr_sigmoid = SVR(kernel='sigmoid')\n",
    "svr_sigmoid.fit(X_train,Y_train)\n",
    "svr_sigmoid_predict = svr_sigmoid.predict(X_test)\n",
    "print('Mean Absolute Error:', metrics.mean_absolute_error(Y_test, svr_sigmoid_predict))\n",
    "print('Mean Squared Error:', metrics.mean_squared_error(Y_test, svr_sigmoid_predict))\n",
    "print('Root Mean Squared Error:', np.sqrt(metrics.mean_squared_error(Y_test, svr_sigmoid_predict)))"
   ]
  },
  {
   "cell_type": "code",
   "execution_count": 8,
   "metadata": {},
   "outputs": [
    {
     "name": "stdout",
     "output_type": "stream",
     "text": [
      "Mean Absolute Error: 28.678571428571427\n",
      "Mean Squared Error: 1753.5214285714285\n",
      "Root Mean Squared Error: 41.87506929631793\n"
     ]
    }
   ],
   "source": [
    "##desicion tree regression default\n",
    "from sklearn.tree import DecisionTreeRegressor\n",
    "dtc_default = DecisionTreeRegressor(criterion='squared_error',max_depth=None)\n",
    "dtc_default.fit(X_train,Y_train)\n",
    "dtc_default_predict = dtc_default.predict(X_test)\n",
    "print('Mean Absolute Error:', metrics.mean_absolute_error(Y_test, dtc_default_predict))\n",
    "print('Mean Squared Error:', metrics.mean_squared_error(Y_test, dtc_default_predict))\n",
    "print('Root Mean Squared Error:', np.sqrt(metrics.mean_squared_error(Y_test, dtc_default_predict)))"
   ]
  },
  {
   "cell_type": "code",
   "execution_count": 9,
   "metadata": {},
   "outputs": [
    {
     "name": "stdout",
     "output_type": "stream",
     "text": [
      "Mean Absolute Error: 23.19742580557395\n",
      "Mean Squared Error: 880.0172837041133\n",
      "Root Mean Squared Error: 29.66508526372566\n"
     ]
    }
   ],
   "source": [
    "##desicion tree regression poisson and max_depth=3\n",
    "from sklearn.tree import DecisionTreeRegressor\n",
    "dtc_poisson = DecisionTreeRegressor(criterion='poisson',max_depth=3)\n",
    "dtc_poisson.fit(X_train,Y_train)\n",
    "dtc_poisson_predict = dtc_poisson.predict(X_test)\n",
    "print('Mean Absolute Error:', metrics.mean_absolute_error(Y_test, dtc_poisson_predict))\n",
    "print('Mean Squared Error:', metrics.mean_squared_error(Y_test, dtc_poisson_predict))\n",
    "print('Root Mean Squared Error:', np.sqrt(metrics.mean_squared_error(Y_test, dtc_poisson_predict)))"
   ]
  },
  {
   "cell_type": "code",
   "execution_count": 10,
   "metadata": {},
   "outputs": [
    {
     "name": "stdout",
     "output_type": "stream",
     "text": [
      "Mean Absolute Error: 21.279930103571598\n",
      "Mean Squared Error: 822.9105885823492\n",
      "Root Mean Squared Error: 28.686418190188004\n"
     ]
    }
   ],
   "source": [
    "##desicion tree regression friedman and max_depth=5\n",
    "from sklearn.tree import DecisionTreeRegressor\n",
    "dtc_fmse = DecisionTreeRegressor(criterion='friedman_mse',max_depth=5)\n",
    "dtc_fmse.fit(X_train,Y_train)\n",
    "dtc_fmse_predict = dtc_fmse.predict(X_test)\n",
    "print('Mean Absolute Error:', metrics.mean_absolute_error(Y_test, dtc_fmse_predict))\n",
    "print('Mean Squared Error:', metrics.mean_squared_error(Y_test, dtc_fmse_predict))\n",
    "print('Root Mean Squared Error:', np.sqrt(metrics.mean_squared_error(Y_test, dtc_fmse_predict)))"
   ]
  },
  {
   "cell_type": "code",
   "execution_count": 11,
   "metadata": {},
   "outputs": [
    {
     "name": "stdout",
     "output_type": "stream",
     "text": [
      "Mean Absolute Error: 28.41\n",
      "Mean Squared Error: 1282.5077142857144\n",
      "Root Mean Squared Error: 35.812116864068706\n"
     ]
    }
   ],
   "source": [
    "##k-nearest neighbors regression default\n",
    "from sklearn.neighbors import KNeighborsRegressor\n",
    "knnr_default = KNeighborsRegressor(n_neighbors=5 , algorithm='auto')\n",
    "knnr_default.fit(X_train,Y_train)\n",
    "knnr_default_predict = knnr_default.predict(X_test)\n",
    "print('Mean Absolute Error:', metrics.mean_absolute_error(Y_test, knnr_default_predict))\n",
    "print('Mean Squared Error:', metrics.mean_squared_error(Y_test, knnr_default_predict))\n",
    "print('Root Mean Squared Error:', np.sqrt(metrics.mean_squared_error(Y_test, knnr_default_predict)))"
   ]
  },
  {
   "cell_type": "code",
   "execution_count": 13,
   "metadata": {},
   "outputs": [
    {
     "name": "stdout",
     "output_type": "stream",
     "text": [
      "Mean Absolute Error: 27.918571428571433\n",
      "Mean Squared Error: 1169.3091428571427\n",
      "Root Mean Squared Error: 34.19516256515156\n"
     ]
    }
   ],
   "source": [
    "##k-nearest neighbors regression ball_tree and 10 neighbors\n",
    "from sklearn.neighbors import KNeighborsRegressor\n",
    "knnr_ball = KNeighborsRegressor(n_neighbors=10 , algorithm='ball_tree')\n",
    "knnr_ball.fit(X_train,Y_train)\n",
    "knnr_ball_predict = knnr_ball.predict(X_test)\n",
    "print('Mean Absolute Error:', metrics.mean_absolute_error(Y_test, knnr_ball_predict))\n",
    "print('Mean Squared Error:', metrics.mean_squared_error(Y_test, knnr_ball_predict))\n",
    "print('Root Mean Squared Error:', np.sqrt(metrics.mean_squared_error(Y_test, knnr_ball_predict)))"
   ]
  },
  {
   "cell_type": "code",
   "execution_count": 14,
   "metadata": {},
   "outputs": [
    {
     "name": "stdout",
     "output_type": "stream",
     "text": [
      "Mean Absolute Error: 28.39714285714286\n",
      "Mean Squared Error: 1157.310857142857\n",
      "Root Mean Squared Error: 34.019271849098374\n"
     ]
    }
   ],
   "source": [
    "##k-nearest neighbors regression kd_tree and 15 neighbors\n",
    "from sklearn.neighbors import KNeighborsRegressor\n",
    "knnr_kdtree = KNeighborsRegressor(n_neighbors=15 , algorithm='kd_tree')\n",
    "knnr_kdtree.fit(X_train,Y_train)\n",
    "knnr_kdtree_predict = knnr_kdtree.predict(X_test)\n",
    "print('Mean Absolute Error:', metrics.mean_absolute_error(Y_test, knnr_kdtree_predict))\n",
    "print('Mean Squared Error:', metrics.mean_squared_error(Y_test, knnr_kdtree_predict))\n",
    "print('Root Mean Squared Error:', np.sqrt(metrics.mean_squared_error(Y_test, knnr_kdtree_predict)))"
   ]
  },
  {
   "cell_type": "code",
   "execution_count": 15,
   "metadata": {},
   "outputs": [
    {
     "name": "stdout",
     "output_type": "stream",
     "text": [
      "Mean Absolute Error: 22.14992857142857\n",
      "Mean Squared Error: 779.9810878571428\n",
      "Root Mean Squared Error: 27.928141503815517\n"
     ]
    }
   ],
   "source": [
    "#random forest\n",
    "from sklearn.ensemble import RandomForestRegressor\n",
    "rf = RandomForestRegressor()\n",
    "rf.fit(X_train,Y_train)\n",
    "rf_predict = rf.predict(X_test)\n",
    "print('Mean Absolute Error:', metrics.mean_absolute_error(Y_test, rf_predict))\n",
    "print('Mean Squared Error:', metrics.mean_squared_error(Y_test, rf_predict))\n",
    "print('Root Mean Squared Error:', np.sqrt(metrics.mean_squared_error(Y_test, rf_predict)))"
   ]
  },
  {
   "cell_type": "code",
   "execution_count": 16,
   "metadata": {},
   "outputs": [
    {
     "name": "stdout",
     "output_type": "stream",
     "text": [
      "Mean Absolute Error: 16.65\n",
      "Mean Squared Error: 754.8071428571428\n",
      "Root Mean Squared Error: 27.473753708897203\n"
     ]
    }
   ],
   "source": [
    "#ada boost with decision tree\n",
    "from sklearn.ensemble import AdaBoostRegressor\n",
    "from sklearn.tree import DecisionTreeRegressor\n",
    "ada_boost_dt = AdaBoostRegressor(estimator=DecisionTreeRegressor())\n",
    "ada_boost_dt.fit(X_train,Y_train)\n",
    "ada_boost_dt_predict = ada_boost_dt.predict(X_test)\n",
    "print('Mean Absolute Error:', metrics.mean_absolute_error(Y_test, ada_boost_dt_predict))\n",
    "print('Mean Squared Error:', metrics.mean_squared_error(Y_test, ada_boost_dt_predict))\n",
    "print('Root Mean Squared Error:', np.sqrt(metrics.mean_squared_error(Y_test, ada_boost_dt_predict)))\n"
   ]
  },
  {
   "cell_type": "code",
   "execution_count": 17,
   "metadata": {},
   "outputs": [
    {
     "name": "stdout",
     "output_type": "stream",
     "text": [
      "Mean Absolute Error: 23.266135329102287\n",
      "Mean Squared Error: 1256.5358046526073\n",
      "Root Mean Squared Error: 35.44764878877875\n"
     ]
    }
   ],
   "source": [
    "#ada boost with support vector regression \n",
    "from sklearn.ensemble import AdaBoostRegressor\n",
    "from sklearn.svm import SVR\n",
    "ada_boost_svr = AdaBoostRegressor(estimator=SVR())\n",
    "ada_boost_svr.fit(X_train,Y_train)\n",
    "ada_boost_svr_predict = ada_boost_svr.predict(X_test)\n",
    "print('Mean Absolute Error:', metrics.mean_absolute_error(Y_test, ada_boost_svr_predict))\n",
    "print('Mean Squared Error:', metrics.mean_squared_error(Y_test, ada_boost_svr_predict))\n",
    "print('Root Mean Squared Error:', np.sqrt(metrics.mean_squared_error(Y_test, ada_boost_svr_predict)))\n"
   ]
  },
  {
   "cell_type": "code",
   "execution_count": 18,
   "metadata": {},
   "outputs": [
    {
     "name": "stdout",
     "output_type": "stream",
     "text": [
      "Mean Absolute Error: 23.140000000000004\n",
      "Mean Squared Error: 898.4614285714287\n",
      "Root Mean Squared Error: 29.97434617421085\n"
     ]
    }
   ],
   "source": [
    "##bagging regressor desiion tree\n",
    "from sklearn.ensemble import BaggingRegressor\n",
    "from sklearn.tree import DecisionTreeRegressor\n",
    "Bagging_decisiontree = BaggingRegressor(estimator=DecisionTreeRegressor())\n",
    "Bagging_decisiontree.fit(X_train,Y_train)\n",
    "Bagging_decisiontree_predict = Bagging_decisiontree.predict(X_test)\n",
    "print('Mean Absolute Error:', metrics.mean_absolute_error(Y_test, Bagging_decisiontree_predict))\n",
    "print('Mean Squared Error:', metrics.mean_squared_error(Y_test, Bagging_decisiontree_predict))\n",
    "print('Root Mean Squared Error:', np.sqrt(metrics.mean_squared_error(Y_test, Bagging_decisiontree_predict)))"
   ]
  },
  {
   "cell_type": "code",
   "execution_count": 19,
   "metadata": {},
   "outputs": [
    {
     "name": "stdout",
     "output_type": "stream",
     "text": [
      "Mean Absolute Error: 22.969083712282956\n",
      "Mean Squared Error: 1262.62568972215\n",
      "Root Mean Squared Error: 35.53344466445872\n"
     ]
    }
   ],
   "source": [
    "##bagging regressor support vector regression\n",
    "from sklearn.ensemble import BaggingRegressor\n",
    "from sklearn.svm import SVR\n",
    "Bagging_svr = BaggingRegressor(estimator=SVR())\n",
    "Bagging_svr.fit(X_train,Y_train)\n",
    "Bagging_svr_predict = Bagging_svr.predict(X_test)\n",
    "print('Mean Absolute Error:', metrics.mean_absolute_error(Y_test, Bagging_svr_predict))\n",
    "print('Mean Squared Error:', metrics.mean_squared_error(Y_test, Bagging_svr_predict))\n",
    "print('Root Mean Squared Error:', np.sqrt(metrics.mean_squared_error(Y_test, Bagging_svr_predict)))"
   ]
  },
  {
   "cell_type": "code",
   "execution_count": 20,
   "metadata": {},
   "outputs": [
    {
     "name": "stdout",
     "output_type": "stream",
     "text": [
      "Mean Absolute Error: 24.56874576306991\n",
      "Mean Squared Error: 994.6295625970117\n",
      "Root Mean Squared Error: 31.537748216970275\n"
     ]
    }
   ],
   "source": [
    "##voting regressor with support vector regression, decision tree and k-nearest neighbors\n",
    "from sklearn.ensemble import VotingRegressor\n",
    "from sklearn.svm import SVR\n",
    "from sklearn.tree import DecisionTreeRegressor\n",
    "from sklearn.neighbors import KNeighborsRegressor\n",
    "\n",
    "reg1 = SVR()\n",
    "reg2 = DecisionTreeRegressor()\n",
    "reg3 = KNeighborsRegressor()\n",
    "reg = VotingRegressor(estimators=[('svr', reg1), ('dt', reg2), ('knn', reg3)])\n",
    "reg.fit(X_train,Y_train)\n",
    "vote_predict = reg.predict(X_test)\n",
    "print('Mean Absolute Error:', metrics.mean_absolute_error(Y_test, vote_predict))\n",
    "print('Mean Squared Error:', metrics.mean_squared_error(Y_test, vote_predict))\n",
    "print('Root Mean Squared Error:', np.sqrt(metrics.mean_squared_error(Y_test, vote_predict)))\n"
   ]
  },
  {
   "cell_type": "code",
   "execution_count": null,
   "metadata": {},
   "outputs": [],
   "source": []
  }
 ],
 "metadata": {
  "kernelspec": {
   "display_name": "Python 3",
   "language": "python",
   "name": "python3"
  },
  "language_info": {
   "codemirror_mode": {
    "name": "ipython",
    "version": 3
   },
   "file_extension": ".py",
   "mimetype": "text/x-python",
   "name": "python",
   "nbconvert_exporter": "python",
   "pygments_lexer": "ipython3",
   "version": "3.11.4"
  }
 },
 "nbformat": 4,
 "nbformat_minor": 2
}
